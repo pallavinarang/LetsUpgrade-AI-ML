{
 "cells": [
  {
   "cell_type": "code",
   "execution_count": 1,
   "metadata": {},
   "outputs": [
    {
     "name": "stdout",
     "output_type": "stream",
     "text": [
      "First 20 non-even prime natural numbers are: \n",
      "3 5 7 11 13 17 19 23 29 31 37 41 43 47 53 59 61 67 71 73\n"
     ]
    }
   ],
   "source": [
    "#Question 1 :\n",
    "#Write a Python program to find the first 20 non-even prime natural numbers.\n",
    "\n",
    "\n",
    "print(f'First 20 non-even prime natural numbers are: ')\n",
    "num = 2\n",
    "odd_prime = []\n",
    "while len(odd_prime) != 20:\n",
    "    if num % 2 != 0:\n",
    "        for i in range(2, num//2 + 2):\n",
    "            if num % i == 0:\n",
    "                break\n",
    "            elif i == num//2 + 1:\n",
    "                odd_prime.append(num)\n",
    "    num += 1\n",
    "print(*odd_prime)"
   ]
  },
  {
   "cell_type": "code",
   "execution_count": 2,
   "metadata": {
    "scrolled": true
   },
   "outputs": [
    {
     "name": "stdout",
     "output_type": "stream",
     "text": [
      "len(): 5\n",
      "title(): Hello\n",
      "lower(): hello\n",
      "upper(): HELLO\n",
      "swapcase(): hELLO\n",
      "casefold(): hello\n",
      "replace(): Hello\n",
      "join(): Hello\n",
      "split(): ['Hello']\n",
      "find(): -1\n",
      "count(): 1\n",
      "partition(): ('Hello', '', '')\n",
      "islower(): False\n",
      "center(): _______Hello________\n",
      "isalpha(): True\n"
     ]
    }
   ],
   "source": [
    "#Question 2:Write a Python program to implement 15 functions of string.\n",
    "\n",
    "txt = \"Hello\"\n",
    "\n",
    "print(f'len(): {len(txt)}')\n",
    "print(f'title(): {txt.title()}')\n",
    "print(f'lower(): {txt.lower()}')\n",
    "print(f'upper(): {txt.upper()}')\n",
    "print(f'swapcase(): {txt.swapcase()}')\n",
    "print(f'casefold(): {txt.casefold()}')\n",
    "print(f'replace(): {txt.replace(\"s\", \"z\")}')\n",
    "print(f'join(): {\"_\".join(txt.split())}')\n",
    "print(f'split(): {txt.split()}')\n",
    "print(f'find(): {txt.find(\"Up\")}')\n",
    "print(f'count(): {txt.count(\"e\")}')\n",
    "print(f'partition(): {txt.partition(\" \")}')\n",
    "print(f'islower(): {txt.islower()}')\n",
    "print(f'center(): {txt.center(20, \"_\")}')\n",
    "print(f'isalpha(): {txt.isalpha()}')"
   ]
  },
  {
   "cell_type": "code",
   "execution_count": 8,
   "metadata": {
    "scrolled": true
   },
   "outputs": [
    {
     "name": "stdout",
     "output_type": "stream",
     "text": [
      "'nun' is Palindrome\n",
      "'worth' and 'listen' are neither Anagram nor 'worth' is Palindrome\n",
      "'elephant' and 'run' are neither Anagram nor 'elephant' is Palindrome\n"
     ]
    }
   ],
   "source": [
    "#Question 3:Write a Python program to check if the given string is a Palindrome or Anagram or None of them.\n",
    "#Display the message accordingly to the user.\n",
    "\n",
    "def check(txt, txt2):\n",
    "    if txt == txt[::-1]:\n",
    "        print(f\"\\'{txt}\\' is Palindrome\")\n",
    "    elif sorted(txt) == sorted(txt2.lower().replace(' ', '')):\n",
    "        print(f\"\\'{txt}\\' and \\'{txt2}\\' are Anagram\")\n",
    "    else:\n",
    "        print(f\"\\'{txt}\\' and \\'{txt2}\\' are neither Anagram nor \\'{txt}\\' is Palindrome\")\n",
    "\n",
    "\n",
    "check('nun', 'mama')\n",
    "check('worth', 'listen')\n",
    "check('elephant', 'run')"
   ]
  },
  {
   "cell_type": "code",
   "execution_count": 7,
   "metadata": {},
   "outputs": [
    {
     "name": "stdout",
     "output_type": "stream",
     "text": [
      "drdarshaningleaimltrainer"
     ]
    }
   ],
   "source": [
    "#Question 4: Write a Python's user defined function that removes all the additional characters from the string\n",
    "#and converts it finally to lower case using built-in lower(). eg: If the string is \"Dr. Darshan Ingle\n",
    "#@AI-ML Trainer\", then the output be \"drdarshaningleaimltrainer\".\n",
    "\n",
    "string = 'Dr. Darshan Ingle @AI-ML Trainer'\n",
    "\n",
    "\n",
    "def remover(txt):\n",
    "    for i in txt.lower():\n",
    "        if i.isalpha():\n",
    "            print(i, end='')\n",
    "\n",
    "\n",
    "remover(string)"
   ]
  }
 ],
 "metadata": {
  "kernelspec": {
   "display_name": "Python 3",
   "language": "python",
   "name": "python3"
  },
  "language_info": {
   "codemirror_mode": {
    "name": "ipython",
    "version": 3
   },
   "file_extension": ".py",
   "mimetype": "text/x-python",
   "name": "python",
   "nbconvert_exporter": "python",
   "pygments_lexer": "ipython3",
   "version": "3.7.0"
  }
 },
 "nbformat": 4,
 "nbformat_minor": 2
}
