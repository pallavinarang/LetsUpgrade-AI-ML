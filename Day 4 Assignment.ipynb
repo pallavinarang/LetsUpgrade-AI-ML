{
 "cells": [
  {
   "cell_type": "code",
   "execution_count": 1,
   "metadata": {},
   "outputs": [
    {
     "name": "stdout",
     "output_type": "stream",
     "text": [
      "Addition of (6+4j) and (3+6j) complex numbers : (9+10j)\n",
      "Subtraction of (6+4j) and (3+6j) complex numbers : (3-2j)\n",
      "Multiplication of (6+4j) and (3+6j) complex numbers : (-6+48j)\n",
      "Division of (6+4j) and (3+6j) complex numbers : (0.9333333333333333-0.5333333333333333j)\n",
      "\n",
      "Floor division and modulo operations cannot be performed on complex number\n"
     ]
    }
   ],
   "source": [
    "#Question 1 :\n",
    "#Research on whether addition, subtraction, multiplication, division, floor division and modulo\n",
    "#operations be performed on complex numbers. Based on your study, implement a Python\n",
    "#program to demonstrate these operations.\n",
    "num1 = 6 + 4j\n",
    "num2 = 3 + 6j\n",
    "\n",
    "print(f\"Addition of {num1} and {num2} complex numbers : {num1+num2}\")\n",
    "print(f\"Subtraction of {num1} and {num2} complex numbers : {num1-num2}\")\n",
    "print(f\"Multiplication of {num1} and {num2} complex numbers : {num1*num2}\")\n",
    "print(f\"Division of {num1} and {num2} complex numbers : {num1/num2}\")\n",
    "# print(f\"Floor Division of {num1} and {num2} complex numbers : {num1//num2}\")\n",
    "# print(f\"Modulo of {num1} and {num2} complex numbers : {num1%num2}\")\n",
    "print('\\nFloor division and modulo operations cannot be performed on complex number')"
   ]
  },
  {
   "cell_type": "code",
   "execution_count": 3,
   "metadata": {},
   "outputs": [],
   "source": [
    "#Question 2:Research on range() function and its parameters.\n",
    "#Create a markdown cell and write in you own words (no copy-paste from google please) what you understand about it.\n",
    "#Implement a small program of your choice on the same"
   ]
  },
  {
   "cell_type": "markdown",
   "metadata": {},
   "source": [
    "range(start, stop, step)\n",
    "    start:starting number / lower limit\n",
    "    stop: ending value / upper  limit\n",
    "    step: it is the distance between each number in the result sequence"
   ]
  },
  {
   "cell_type": "code",
   "execution_count": 2,
   "metadata": {},
   "outputs": [
    {
     "name": "stdout",
     "output_type": "stream",
     "text": [
      "Print table of 2\n",
      "2\n",
      "4\n",
      "6\n",
      "8\n",
      "10\n",
      "12\n",
      "14\n",
      "16\n",
      "18\n",
      "20\n"
     ]
    }
   ],
   "source": [
    "print(\"Print table of 2\")\n",
    "for i in range(2,21,2):\n",
    "    print(i)"
   ]
  },
  {
   "cell_type": "code",
   "execution_count": 6,
   "metadata": {},
   "outputs": [
    {
     "name": "stdout",
     "output_type": "stream",
     "text": [
      "Multiplication of 995 and 950 is 945250\n"
     ]
    }
   ],
   "source": [
    "#Question 3:Consider two numbers.\n",
    "#Perform their subtraction and if result of subtraction is greater than 25,\n",
    "#print their multiplication result else print their divisin result\n",
    "\n",
    "num1 = 995\n",
    "num2 = 950\n",
    "\n",
    "if num1 - num2 > 25:\n",
    "    print(f\"Multiplication of {num1} and {num2} is {num1 * num2}\")\n",
    "else:\n",
    "    print(f\"Division of {num1} and {num2} is {num1 / num2}\")"
   ]
  },
  {
   "cell_type": "code",
   "execution_count": 10,
   "metadata": {
    "scrolled": true
   },
   "outputs": [
    {
     "name": "stdout",
     "output_type": "stream",
     "text": [
      "Square of 2 - 2 = 2\n",
      "Square of 4 - 2 = 14\n",
      "Square of 6 - 2 = 34\n",
      "Square of 8 - 2 = 62\n",
      "Square of 10 - 2 = 98\n"
     ]
    }
   ],
   "source": [
    "#Question 4:Consider a list of 10 elements of integer values. \n",
    "#if the number in the list is divisible by 2, print the result as \"square of that number minus 2\n",
    "\n",
    "l = [1, 2, 3, 4, 5, 6, 7, 8, 9, 10]\n",
    "for i in l:\n",
    "    if i % 2 == 0:\n",
    "        print(f\"Square of {i} - 2 = {i**2-2}\")"
   ]
  },
  {
   "cell_type": "code",
   "execution_count": 14,
   "metadata": {},
   "outputs": [
    {
     "name": "stdout",
     "output_type": "stream",
     "text": [
      "Elements in the list which are greater than 7 when that number is divided by 2 are \n",
      "62\n",
      "24\n",
      "91\n",
      "31\n",
      "21\n",
      "71\n",
      "20\n"
     ]
    }
   ],
   "source": [
    "#Question 5:Consider a list of 10 elements.\n",
    "#Print all the elements in the list which are greater than 7 when that number is divided by 2\n",
    "\n",
    "\n",
    "l = [62, 24, 6, 91, 31, 21, 71, 9, 14, 20]\n",
    "print(\"Elements in the list which are greater than 7 when that number is divided by 2 are \")\n",
    "for i in l:\n",
    "    if i/2 > 7:\n",
    "        print(i)"
   ]
  }
 ],
 "metadata": {
  "kernelspec": {
   "display_name": "Python 3",
   "language": "python",
   "name": "python3"
  },
  "language_info": {
   "codemirror_mode": {
    "name": "ipython",
    "version": 3
   },
   "file_extension": ".py",
   "mimetype": "text/x-python",
   "name": "python",
   "nbconvert_exporter": "python",
   "pygments_lexer": "ipython3",
   "version": "3.7.0"
  }
 },
 "nbformat": 4,
 "nbformat_minor": 2
}
