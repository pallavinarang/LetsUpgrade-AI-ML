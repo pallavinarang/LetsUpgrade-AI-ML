{
 "cells": [
  {
   "cell_type": "code",
   "execution_count": 17,
   "metadata": {
    "scrolled": true
   },
   "outputs": [
    {
     "data": {
      "text/plain": [
       "(3-2j)"
      ]
     },
     "execution_count": 17,
     "metadata": {},
     "output_type": "execute_result"
    }
   ],
   "source": [
    "#Question 1 :\n",
    "#Write a program to subtract two complex numbers in Python.\n",
    "a = 6+4j\n",
    "b = 3+6j\n",
    "a-b\n",
    "(3-2j)"
   ]
  },
  {
   "cell_type": "code",
   "execution_count": 10,
   "metadata": {},
   "outputs": [
    {
     "name": "stdout",
     "output_type": "stream",
     "text": [
      "16\n"
     ]
    }
   ],
   "source": [
    "#Question 2 :\n",
    "#Write a program to find the fourth root of a number\n",
    "a = 2\n",
    "b = a **4\n",
    "print(b)"
   ]
  },
  {
   "cell_type": "code",
   "execution_count": 26,
   "metadata": {},
   "outputs": [
    {
     "name": "stdout",
     "output_type": "stream",
     "text": [
      "4 8\n",
      "8 4\n"
     ]
    }
   ],
   "source": [
    "#Question 3:\n",
    "#Write a program to swap two numbers in Python with the help of a temporary variable.\n",
    "\n",
    "\n",
    "x = 4\n",
    "y = 8\n",
    "print(x,y)\n",
    "temp = x\n",
    "x = y\n",
    "y = temp\n",
    "print(x,y)\n"
   ]
  },
  {
   "cell_type": "code",
   "execution_count": 23,
   "metadata": {},
   "outputs": [
    {
     "name": "stdout",
     "output_type": "stream",
     "text": [
      "3 5\n",
      "5 3\n"
     ]
    }
   ],
   "source": [
    "#Question 3:\n",
    "#Write a program to swap two numbers in Python without using a temporary variable.\n",
    "\n",
    "x = 3\n",
    "y = 5\n",
    "print(x,y)\n",
    "x, y = y, x\n",
    "print(x,y)\n",
    "\n"
   ]
  },
  {
   "cell_type": "code",
   "execution_count": 36,
   "metadata": {},
   "outputs": [
    {
     "name": "stdout",
     "output_type": "stream",
     "text": [
      "99.5 is equal to 37.5 and 310.65\n"
     ]
    }
   ],
   "source": [
    "#Question 5:\n",
    "#Write a program to convert fahrenheit to kelvin and celsius both.\n",
    "f = 99.5\n",
    "c = (f-32)/1.8\n",
    "k = c + 273.15\n",
    "\n",
    "print(f, \"is equal to\", c ,\"and\", k)\n"
   ]
  },
  {
   "cell_type": "code",
   "execution_count": 37,
   "metadata": {
    "scrolled": true
   },
   "outputs": [
    {
     "name": "stdout",
     "output_type": "stream",
     "text": [
      "<class 'int'>\n",
      "<class 'float'>\n",
      "<class 'str'>\n",
      "<class 'complex'>\n",
      "<class 'list'>\n",
      "<class 'tuple'>\n",
      "<class 'dict'>\n",
      "<class 'set'>\n",
      "<class 'bool'>\n",
      "<class 'range'>\n",
      "<class 'frozenset'>\n",
      "<class 'bytes'>\n",
      "<class 'bytearray'>\n",
      "<class 'memoryview'>\n"
     ]
    }
   ],
   "source": [
    "#Question 6:\n",
    "#Write a program to demonstrate all the available data types in Python. Hint: Use type() function.\n",
    "\n",
    "a = 10\n",
    "print(type(a))\n",
    "\n",
    "b = 10.5\n",
    "print(type(b))\n",
    "\n",
    "c = 'qwerty'\n",
    "print(type(c))\n",
    "\n",
    "d = 3 + 5j\n",
    "print(type(d))\n",
    "\n",
    "e = [1,2,3,4,5,'a','b']\n",
    "print(type(e))\n",
    "\n",
    "f = (1,2,3,4,5,'a','b')\n",
    "print(type(f))\n",
    "\n",
    "g = {'tst1': 20, 'tst2': 50}\n",
    "print(type(g))\n",
    "\n",
    "h = {'test1', 'test2'}\n",
    "print(type(h))\n",
    "\n",
    "i = True\n",
    "print(type(i))\n",
    "\n",
    "j = range(10)\n",
    "print(type(j))\n",
    "\n",
    "k = frozenset({\"a\", \"b\", \"c\"})\n",
    "print(type(k))\n",
    "\n",
    "l = b'qwerty'\n",
    "print(type(l))\n",
    "\n",
    "m = bytearray(10)\n",
    "print(type(m))\n",
    "\n",
    "n = memoryview(bytes(10))\n",
    "print(type(n))\n"
   ]
  },
  {
   "cell_type": "code",
   "execution_count": null,
   "metadata": {},
   "outputs": [],
   "source": [
    "#Question 7:\n",
    "#Create a Markdown cell in jupyter and list the steps discussed in the session by Dr. Darshan\n",
    "#Ingle sir to create Github profile and upload Githubs Assignment link.\n",
    "\n",
    "The steps to create a GitHub profile are as follows:\n",
    "\n",
    "Go to www.github.com\n",
    "SignUp/SignIn to our account\n",
    "Press on the button which says Create New Repository\n",
    "Name it as LetsUpgrade AI-ML and fill some description and nothing else and press Create\n",
    "After the assignment is done in Jupyter Notebook we have to create a folder with the name of the current day of the session e.g. Day 3\n",
    "After that in GitHub we have to select the uploading an existing file link on the setup page which comes up after creating the repository\n",
    "Then we have to drag and drop the folder and just commit the changes without editing anything else\n",
    "Here we have successfully uploaded the Assignment on GitHub\n",
    "How to upload the GitHubs Assignment Link\n",
    "\n",
    "Navigate to the parent repository and open the folder named same as the current day of the session e.g. Day 3\n",
    "Just copy the link from the Address Bar and try to see if it is visible to the public by opening the link in incognito mode\n",
    "After testing open the Assignment submission form fill the required data and paste the GitHub link which we just copied and press Submit\n",
    "Here we have successfully submitted the Assignment"
   ]
  }
 ],
 "metadata": {
  "kernelspec": {
   "display_name": "Python 3",
   "language": "python",
   "name": "python3"
  },
  "language_info": {
   "codemirror_mode": {
    "name": "ipython",
    "version": 3
   },
   "file_extension": ".py",
   "mimetype": "text/x-python",
   "name": "python",
   "nbconvert_exporter": "python",
   "pygments_lexer": "ipython3",
   "version": "3.7.0"
  }
 },
 "nbformat": 4,
 "nbformat_minor": 2
}
